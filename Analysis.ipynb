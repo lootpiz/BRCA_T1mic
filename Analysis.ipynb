{
 "cells": [
  {
   "cell_type": "code",
   "execution_count": 1,
   "metadata": {},
   "outputs": [
    {
     "name": "stderr",
     "output_type": "stream",
     "text": [
      "\n",
      "Attaching package: ‘dplyr’\n",
      "\n",
      "\n",
      "The following objects are masked from ‘package:stats’:\n",
      "\n",
      "    filter, lag\n",
      "\n",
      "\n",
      "The following objects are masked from ‘package:base’:\n",
      "\n",
      "    intersect, setdiff, setequal, union\n",
      "\n",
      "\n"
     ]
    }
   ],
   "source": [
    "library(dplyr)"
   ]
  },
  {
   "cell_type": "code",
   "execution_count": 2,
   "metadata": {},
   "outputs": [
    {
     "data": {
      "text/html": [
       "<style>\n",
       ".list-inline {list-style: none; margin:0; padding: 0}\n",
       ".list-inline>li {display: inline-block}\n",
       ".list-inline>li:not(:last-child)::after {content: \"\\00b7\"; padding: 0 .5ex}\n",
       "</style>\n",
       "<ol class=list-inline><li>2556</li><li>57</li></ol>\n"
      ],
      "text/latex": [
       "\\begin{enumerate*}\n",
       "\\item 2556\n",
       "\\item 57\n",
       "\\end{enumerate*}\n"
      ],
      "text/markdown": [
       "1. 2556\n",
       "2. 57\n",
       "\n",
       "\n"
      ],
      "text/plain": [
       "[1] 2556   57"
      ]
     },
     "metadata": {},
     "output_type": "display_data"
    },
    {
     "data": {
      "text/html": [
       "<style>\n",
       ".list-inline {list-style: none; margin:0; padding: 0}\n",
       ".list-inline>li {display: inline-block}\n",
       ".list-inline>li:not(:last-child)::after {content: \"\\00b7\"; padding: 0 .5ex}\n",
       "</style>\n",
       "<ol class=list-inline><li>'chart_id'</li><li>'tumour_size'</li><li>'selected'</li><li>'total_node'</li><li>'positive_node'</li><li>'n_axilla'</li><li>'n_internal_mammary'</li><li>'n_supraclavicular'</li><li>'tnm_n_total'</li><li>'tnm_m_total'</li><li>'p_stage'</li><li>'breast_op'</li><li>'axillary_op'</li><li>'sex'</li><li>'age_at_op'</li><li>'bmi'</li><li>'age_at_period_begin'</li><li>'menopause'</li><li>'contraceptives'</li><li>'HRT'</li><li>'BRCA_family_history'</li><li>'number_of_BRCA_family'</li><li>'other_disease'</li><li>'symptoms'</li><li>'comments_A'</li><li>'P_or_NP'</li><li>'symp_T'</li><li>'symp_R'</li><li>'symp_S'</li><li>'symp_nipple_discharge'</li><li>'symp_M'</li><li>'MMG'</li><li>'MMG_2'</li><li>'USG'</li><li>'USG_2'</li><li>'MRI'</li><li>'MRI_2'</li><li>'CEA'</li><li>'CEA_LAB'</li><li>'CA15.3'</li><li>'CA15.3_LAB'</li><li>'ALP_LAB'</li><li>'Breast_Laterality'</li><li>'focality'</li><li>'tumour_site'</li><li>'histology_grade'</li><li>'nuclear_grade'</li><li>'ht_total'</li><li>'er_t'</li><li>'pr_t'</li><li>'her2_t'</li><li>'p53_t'</li><li>'KI67_category'</li><li>'KI67_T'</li><li>'lymphatic_invasion'</li><li>'vascular_invasion'</li><li>'EIC'</li></ol>\n"
      ],
      "text/latex": [
       "\\begin{enumerate*}\n",
       "\\item 'chart\\_id'\n",
       "\\item 'tumour\\_size'\n",
       "\\item 'selected'\n",
       "\\item 'total\\_node'\n",
       "\\item 'positive\\_node'\n",
       "\\item 'n\\_axilla'\n",
       "\\item 'n\\_internal\\_mammary'\n",
       "\\item 'n\\_supraclavicular'\n",
       "\\item 'tnm\\_n\\_total'\n",
       "\\item 'tnm\\_m\\_total'\n",
       "\\item 'p\\_stage'\n",
       "\\item 'breast\\_op'\n",
       "\\item 'axillary\\_op'\n",
       "\\item 'sex'\n",
       "\\item 'age\\_at\\_op'\n",
       "\\item 'bmi'\n",
       "\\item 'age\\_at\\_period\\_begin'\n",
       "\\item 'menopause'\n",
       "\\item 'contraceptives'\n",
       "\\item 'HRT'\n",
       "\\item 'BRCA\\_family\\_history'\n",
       "\\item 'number\\_of\\_BRCA\\_family'\n",
       "\\item 'other\\_disease'\n",
       "\\item 'symptoms'\n",
       "\\item 'comments\\_A'\n",
       "\\item 'P\\_or\\_NP'\n",
       "\\item 'symp\\_T'\n",
       "\\item 'symp\\_R'\n",
       "\\item 'symp\\_S'\n",
       "\\item 'symp\\_nipple\\_discharge'\n",
       "\\item 'symp\\_M'\n",
       "\\item 'MMG'\n",
       "\\item 'MMG\\_2'\n",
       "\\item 'USG'\n",
       "\\item 'USG\\_2'\n",
       "\\item 'MRI'\n",
       "\\item 'MRI\\_2'\n",
       "\\item 'CEA'\n",
       "\\item 'CEA\\_LAB'\n",
       "\\item 'CA15.3'\n",
       "\\item 'CA15.3\\_LAB'\n",
       "\\item 'ALP\\_LAB'\n",
       "\\item 'Breast\\_Laterality'\n",
       "\\item 'focality'\n",
       "\\item 'tumour\\_site'\n",
       "\\item 'histology\\_grade'\n",
       "\\item 'nuclear\\_grade'\n",
       "\\item 'ht\\_total'\n",
       "\\item 'er\\_t'\n",
       "\\item 'pr\\_t'\n",
       "\\item 'her2\\_t'\n",
       "\\item 'p53\\_t'\n",
       "\\item 'KI67\\_category'\n",
       "\\item 'KI67\\_T'\n",
       "\\item 'lymphatic\\_invasion'\n",
       "\\item 'vascular\\_invasion'\n",
       "\\item 'EIC'\n",
       "\\end{enumerate*}\n"
      ],
      "text/markdown": [
       "1. 'chart_id'\n",
       "2. 'tumour_size'\n",
       "3. 'selected'\n",
       "4. 'total_node'\n",
       "5. 'positive_node'\n",
       "6. 'n_axilla'\n",
       "7. 'n_internal_mammary'\n",
       "8. 'n_supraclavicular'\n",
       "9. 'tnm_n_total'\n",
       "10. 'tnm_m_total'\n",
       "11. 'p_stage'\n",
       "12. 'breast_op'\n",
       "13. 'axillary_op'\n",
       "14. 'sex'\n",
       "15. 'age_at_op'\n",
       "16. 'bmi'\n",
       "17. 'age_at_period_begin'\n",
       "18. 'menopause'\n",
       "19. 'contraceptives'\n",
       "20. 'HRT'\n",
       "21. 'BRCA_family_history'\n",
       "22. 'number_of_BRCA_family'\n",
       "23. 'other_disease'\n",
       "24. 'symptoms'\n",
       "25. 'comments_A'\n",
       "26. 'P_or_NP'\n",
       "27. 'symp_T'\n",
       "28. 'symp_R'\n",
       "29. 'symp_S'\n",
       "30. 'symp_nipple_discharge'\n",
       "31. 'symp_M'\n",
       "32. 'MMG'\n",
       "33. 'MMG_2'\n",
       "34. 'USG'\n",
       "35. 'USG_2'\n",
       "36. 'MRI'\n",
       "37. 'MRI_2'\n",
       "38. 'CEA'\n",
       "39. 'CEA_LAB'\n",
       "40. 'CA15.3'\n",
       "41. 'CA15.3_LAB'\n",
       "42. 'ALP_LAB'\n",
       "43. 'Breast_Laterality'\n",
       "44. 'focality'\n",
       "45. 'tumour_site'\n",
       "46. 'histology_grade'\n",
       "47. 'nuclear_grade'\n",
       "48. 'ht_total'\n",
       "49. 'er_t'\n",
       "50. 'pr_t'\n",
       "51. 'her2_t'\n",
       "52. 'p53_t'\n",
       "53. 'KI67_category'\n",
       "54. 'KI67_T'\n",
       "55. 'lymphatic_invasion'\n",
       "56. 'vascular_invasion'\n",
       "57. 'EIC'\n",
       "\n",
       "\n"
      ],
      "text/plain": [
       " [1] \"chart_id\"              \"tumour_size\"           \"selected\"             \n",
       " [4] \"total_node\"            \"positive_node\"         \"n_axilla\"             \n",
       " [7] \"n_internal_mammary\"    \"n_supraclavicular\"     \"tnm_n_total\"          \n",
       "[10] \"tnm_m_total\"           \"p_stage\"               \"breast_op\"            \n",
       "[13] \"axillary_op\"           \"sex\"                   \"age_at_op\"            \n",
       "[16] \"bmi\"                   \"age_at_period_begin\"   \"menopause\"            \n",
       "[19] \"contraceptives\"        \"HRT\"                   \"BRCA_family_history\"  \n",
       "[22] \"number_of_BRCA_family\" \"other_disease\"         \"symptoms\"             \n",
       "[25] \"comments_A\"            \"P_or_NP\"               \"symp_T\"               \n",
       "[28] \"symp_R\"                \"symp_S\"                \"symp_nipple_discharge\"\n",
       "[31] \"symp_M\"                \"MMG\"                   \"MMG_2\"                \n",
       "[34] \"USG\"                   \"USG_2\"                 \"MRI\"                  \n",
       "[37] \"MRI_2\"                 \"CEA\"                   \"CEA_LAB\"              \n",
       "[40] \"CA15.3\"                \"CA15.3_LAB\"            \"ALP_LAB\"              \n",
       "[43] \"Breast_Laterality\"     \"focality\"              \"tumour_site\"          \n",
       "[46] \"histology_grade\"       \"nuclear_grade\"         \"ht_total\"             \n",
       "[49] \"er_t\"                  \"pr_t\"                  \"her2_t\"               \n",
       "[52] \"p53_t\"                 \"KI67_category\"         \"KI67_T\"               \n",
       "[55] \"lymphatic_invasion\"    \"vascular_invasion\"     \"EIC\"                  "
      ]
     },
     "metadata": {},
     "output_type": "display_data"
    }
   ],
   "source": [
    "data <- read.table(\"data/clinical_information.txt\", header=T, row.names=1, \n",
    "    sep=\"\\t\", na.strings=c(999))\n",
    "dim(data)\n",
    "colnames(data)"
   ]
  },
  {
   "cell_type": "code",
   "execution_count": 3,
   "metadata": {},
   "outputs": [],
   "source": [
    "data <- data %>%\n",
    "    mutate(\n",
    "        age_at_op = case_when(\n",
    "            age_at_op <= 45  ~ \"<= 45\",\n",
    "            age_at_op > 45 ~ \"> 45\"),\n",
    "        bmi = case_when(\n",
    "            bmi <= 26 ~ \"<= 26\",\n",
    "            bmi > 26  ~ \"> 26\"),\n",
    "        age_at_period_begin = case_when(\n",
    "            age_at_period_begin <= 15 ~ \"<= 15\",\n",
    "            age_at_period_begin > 15  ~ \"> 15\"),\n",
    "        comments_A = case_when(\n",
    "            comments_A == \"A\" ~ \"A\",\n",
    "            comments_A == \"\"  ~ \"None\"),\n",
    "        symp_T = case_when(\n",
    "            symp_T == TRUE ~ \"T\",\n",
    "            is.na(symp_T)  ~ \"None\"),\n",
    "        symp_R = case_when(\n",
    "            symp_R == \"R\" ~ \"R\",\n",
    "            symp_R == \"\"  ~ \"None\"),\n",
    "        symp_S = case_when(\n",
    "            symp_S == \"S\" ~ \"S\",\n",
    "            symp_S == \"\"  ~ \"None\"),\n",
    "        symp_nipple_discharge = case_when(\n",
    "            symp_nipple_discharge == \"D\" ~ \"D\",\n",
    "            symp_nipple_discharge == \"\"  ~ \"None\"),\n",
    "        symp_M = case_when(\n",
    "            symp_M == \"M\" ~ \"M\",\n",
    "            symp_M == \"\"  ~ \"None\"),\n",
    "        KI67_category = case_when(\n",
    "            KI67_category < 3  ~ \"<= 25\",\n",
    "            KI67_category >= 3 ~ \"> 25\")\n",
    "    )"
   ]
  },
  {
   "cell_type": "code",
   "execution_count": 4,
   "metadata": {},
   "outputs": [
    {
     "data": {
      "text/plain": [
       "\n",
       "    N0 N0(i+)     N1     N2     N3 \n",
       "  2393     29    112     13      9 "
      ]
     },
     "metadata": {},
     "output_type": "display_data"
    }
   ],
   "source": [
    "table(data$tnm_n_total)"
   ]
  },
  {
   "cell_type": "code",
   "execution_count": 5,
   "metadata": {},
   "outputs": [
    {
     "data": {
      "text/plain": [
       "\n",
       "   case control \n",
       "    134    2422 "
      ]
     },
     "metadata": {},
     "output_type": "display_data"
    }
   ],
   "source": [
    "data$group <- \"control\"\n",
    "data$group[which(data$tnm_n_total %in% c(\"N1\", \"N2\", \"N3\"))] <- \"case\"\n",
    "data$group <- factor(data$group, levels=c(\"case\", \"control\"),\n",
    "                  labels=c(\"case\", \"control\"))\n",
    "table(data$group)"
   ]
  },
  {
   "cell_type": "code",
   "execution_count": 6,
   "metadata": {},
   "outputs": [
    {
     "data": {
      "text/plain": [
       "\n",
       " N1  N2  N3 \n",
       "112  13   9 "
      ]
     },
     "metadata": {},
     "output_type": "display_data"
    }
   ],
   "source": [
    "data$group2 <- \"NA\"\n",
    "data$group2[which(data$tnm_n_total == \"N1\")] <- \"N1\"\n",
    "data$group2[which(data$tnm_n_total == \"N2\")] <- \"N2\"\n",
    "data$group2[which(data$tnm_n_total == \"N3\")] <- \"N3\"\n",
    "data$group2 <- factor(data$group2, levels=c(\"N1\", \"N2\", \"N3\"),\n",
    "                  labels=c(\"N1\", \"N2\", \"N3\"))\n",
    "table(data$group2)"
   ]
  },
  {
   "cell_type": "code",
   "execution_count": 7,
   "metadata": {},
   "outputs": [],
   "source": [
    "##### ##### ##### ##### ##### ##### ##### ##### #####\n",
    "##### ##### #####  Analysis begin!  ##### ##### #####\n",
    "##### ##### ##### ##### ##### ##### ##### ##### #####"
   ]
  },
  {
   "cell_type": "code",
   "execution_count": 8,
   "metadata": {},
   "outputs": [
    {
     "data": {
      "text/plain": [
       "         \n",
       "          <= 45 > 45\n",
       "  case       52   82\n",
       "  control   787 1635"
      ]
     },
     "metadata": {},
     "output_type": "display_data"
    },
    {
     "data": {
      "text/plain": [
       "\n",
       "\tFisher's Exact Test for Count Data\n",
       "\n",
       "data:  table(data$group, data$age_at_op)\n",
       "p-value = 0.1315\n",
       "alternative hypothesis: true odds ratio is not equal to 1\n",
       "95 percent confidence interval:\n",
       " 0.9024609 1.9085276\n",
       "sample estimates:\n",
       "odds ratio \n",
       "  1.317246 \n"
      ]
     },
     "metadata": {},
     "output_type": "display_data"
    }
   ],
   "source": [
    "# age_at_op\n",
    "data$age_at_op <- factor(data$age_at_op, levels=c(\"<= 45\", \"> 45\"), \n",
    "                      labels=c(\"<= 45\", \"> 45\"))\n",
    "table(data$group, data$age_at_op)\n",
    "fisher.test(table(data$group, data$age_at_op))"
   ]
  },
  {
   "cell_type": "code",
   "execution_count": 9,
   "metadata": {},
   "outputs": [
    {
     "data": {
      "text/plain": [
       "         \n",
       "          <= 26 > 26\n",
       "  case      100   11\n",
       "  control  1713  392"
      ]
     },
     "metadata": {},
     "output_type": "display_data"
    },
    {
     "data": {
      "text/plain": [
       "\n",
       "\tFisher's Exact Test for Count Data\n",
       "\n",
       "data:  table(data$group, data$bmi)\n",
       "p-value = 0.0222\n",
       "alternative hypothesis: true odds ratio is not equal to 1\n",
       "95 percent confidence interval:\n",
       " 1.100157 4.341949\n",
       "sample estimates:\n",
       "odds ratio \n",
       "  2.079736 \n"
      ]
     },
     "metadata": {},
     "output_type": "display_data"
    }
   ],
   "source": [
    "# BMI\n",
    "data$bmi <- factor(data$bmi, levels=c(\"<= 26\", \"> 26\"), \n",
    "                      labels=c(\"<= 26\", \"> 26\"))\n",
    "table(data$group, data$bmi)\n",
    "fisher.test(table(data$group, data$bmi))"
   ]
  },
  {
   "cell_type": "code",
   "execution_count": 10,
   "metadata": {},
   "outputs": [
    {
     "data": {
      "text/plain": [
       "    \n",
       "     <= 26 > 26\n",
       "  N1    86    9\n",
       "  N2     8    0\n",
       "  N3     6    2"
      ]
     },
     "metadata": {},
     "output_type": "display_data"
    },
    {
     "data": {
      "text/plain": [
       "\n",
       "\tFisher's Exact Test for Count Data\n",
       "\n",
       "data:  table(data$group2, data$bmi)\n",
       "p-value = 0.3345\n",
       "alternative hypothesis: two.sided\n"
      ]
     },
     "metadata": {},
     "output_type": "display_data"
    }
   ],
   "source": [
    "# BMI, group2\n",
    "table(data$group2, data$bmi)\n",
    "fisher.test(table(data$group2, data$bmi))"
   ]
  },
  {
   "cell_type": "code",
   "execution_count": 11,
   "metadata": {},
   "outputs": [
    {
     "data": {
      "text/plain": [
       "         \n",
       "          <= 15 > 15\n",
       "  case       78   19\n",
       "  control  1217  456"
      ]
     },
     "metadata": {},
     "output_type": "display_data"
    },
    {
     "data": {
      "text/plain": [
       "\n",
       "\tFisher's Exact Test for Count Data\n",
       "\n",
       "data:  table(data$group, data$age_at_period_begin)\n",
       "p-value = 0.1004\n",
       "alternative hypothesis: true odds ratio is not equal to 1\n",
       "95 percent confidence interval:\n",
       " 0.9097615 2.7215320\n",
       "sample estimates:\n",
       "odds ratio \n",
       "  1.537893 \n"
      ]
     },
     "metadata": {},
     "output_type": "display_data"
    }
   ],
   "source": [
    "# Age_at_period_begin\n",
    "data$age_at_period_begin <- factor(data$age_at_period_begin, \n",
    "                      levels=c(\"<= 15\", \"> 15\"), \n",
    "                      labels=c(\"<= 15\", \"> 15\"))\n",
    "table(data$group, data$age_at_period_begin)\n",
    "fisher.test(table(data$group, data$age_at_period_begin))"
   ]
  },
  {
   "cell_type": "code",
   "execution_count": 12,
   "metadata": {},
   "outputs": [
    {
     "data": {
      "text/plain": [
       "         \n",
       "             A None\n",
       "  case      29  105\n",
       "  control  902 1520"
      ]
     },
     "metadata": {},
     "output_type": "display_data"
    },
    {
     "data": {
      "text/plain": [
       "\n",
       "\tFisher's Exact Test for Count Data\n",
       "\n",
       "data:  table(data$group, data$comments_A)\n",
       "p-value = 0.0002041\n",
       "alternative hypothesis: true odds ratio is not equal to 1\n",
       "95 percent confidence interval:\n",
       " 0.2949526 0.7147350\n",
       "sample estimates:\n",
       "odds ratio \n",
       " 0.4655459 \n"
      ]
     },
     "metadata": {},
     "output_type": "display_data"
    }
   ],
   "source": [
    "# Comments_A\n",
    "data$comments_A <- factor(data$comments_A, \n",
    "                      levels=c(\"A\", \"None\"), \n",
    "                      labels=c(\"A\", \"None\"))\n",
    "table(data$group, data$comments_A)\n",
    "fisher.test(table(data$group, data$comments_A))"
   ]
  },
  {
   "cell_type": "code",
   "execution_count": 13,
   "metadata": {},
   "outputs": [
    {
     "data": {
      "text/plain": [
       "    \n",
       "      A None\n",
       "  N1 26   86\n",
       "  N2  3   10\n",
       "  N3  0    9"
      ]
     },
     "metadata": {},
     "output_type": "display_data"
    },
    {
     "data": {
      "text/plain": [
       "\n",
       "\tFisher's Exact Test for Count Data\n",
       "\n",
       "data:  table(data$group2, data$comments_A)\n",
       "p-value = 0.3267\n",
       "alternative hypothesis: two.sided\n"
      ]
     },
     "metadata": {},
     "output_type": "display_data"
    }
   ],
   "source": [
    "# Comments_A, group2\n",
    "table(data$group2, data$comments_A)\n",
    "fisher.test(table(data$group2, data$comments_A))"
   ]
  },
  {
   "cell_type": "code",
   "execution_count": 14,
   "metadata": {},
   "outputs": [
    {
     "data": {
      "text/plain": [
       "         \n",
       "             P   NP\n",
       "  case      74   33\n",
       "  control 1152  749"
      ]
     },
     "metadata": {},
     "output_type": "display_data"
    },
    {
     "data": {
      "text/plain": [
       "\n",
       "\tFisher's Exact Test for Count Data\n",
       "\n",
       "data:  table(data$group, data$P_or_NP)\n",
       "p-value = 0.08348\n",
       "alternative hypothesis: true odds ratio is not equal to 1\n",
       "95 percent confidence interval:\n",
       " 0.9439751 2.2931097\n",
       "sample estimates:\n",
       "odds ratio \n",
       "  1.457702 \n"
      ]
     },
     "metadata": {},
     "output_type": "display_data"
    }
   ],
   "source": [
    "# P_or_NP\n",
    "data$P_or_NP[which(data$P_or_NP == \"\")] <- NA\n",
    "data$P_or_NP <- factor(data$P_or_NP, \n",
    "                      levels=c(\"P\", \"NP\"), \n",
    "                      labels=c(\"P\", \"NP\"))\n",
    "table(data$group, data$P_or_NP)\n",
    "fisher.test(table(data$group, data$P_or_NP))"
   ]
  },
  {
   "cell_type": "code",
   "execution_count": 15,
   "metadata": {},
   "outputs": [
    {
     "data": {
      "text/plain": [
       "         \n",
       "             T None\n",
       "  case       9  125\n",
       "  control   92 2330"
      ]
     },
     "metadata": {},
     "output_type": "display_data"
    },
    {
     "data": {
      "text/plain": [
       "\n",
       "\tFisher's Exact Test for Count Data\n",
       "\n",
       "data:  table(data$group, data$symp_T)\n",
       "p-value = 0.1058\n",
       "alternative hypothesis: true odds ratio is not equal to 1\n",
       "95 percent confidence interval:\n",
       " 0.7893121 3.7272022\n",
       "sample estimates:\n",
       "odds ratio \n",
       "  1.822838 \n"
      ]
     },
     "metadata": {},
     "output_type": "display_data"
    }
   ],
   "source": [
    "# Symp_T\n",
    "data$symp_T <- factor(data$symp_T, \n",
    "                      levels=c(\"T\", \"None\"), \n",
    "                      labels=c(\"T\", \"None\"))\n",
    "table(data$group, data$symp_T)\n",
    "fisher.test(table(data$group, data$symp_T))"
   ]
  },
  {
   "cell_type": "code",
   "execution_count": 16,
   "metadata": {},
   "outputs": [
    {
     "data": {
      "text/plain": [
       "         \n",
       "             R None\n",
       "  case       3  131\n",
       "  control   32 2390"
      ]
     },
     "metadata": {},
     "output_type": "display_data"
    },
    {
     "data": {
      "text/plain": [
       "\n",
       "\tFisher's Exact Test for Count Data\n",
       "\n",
       "data:  table(data$group, data$symp_R)\n",
       "p-value = 0.4269\n",
       "alternative hypothesis: true odds ratio is not equal to 1\n",
       "95 percent confidence interval:\n",
       " 0.3307696 5.5777035\n",
       "sample estimates:\n",
       "odds ratio \n",
       "   1.70994 \n"
      ]
     },
     "metadata": {},
     "output_type": "display_data"
    }
   ],
   "source": [
    "# Symp_R\n",
    "data$symp_R <- factor(data$symp_R, \n",
    "                      levels=c(\"R\", \"None\"), \n",
    "                      labels=c(\"R\", \"None\"))\n",
    "table(data$group, data$symp_R)\n",
    "fisher.test(table(data$group, data$symp_R))"
   ]
  },
  {
   "cell_type": "code",
   "execution_count": 17,
   "metadata": {},
   "outputs": [
    {
     "data": {
      "text/plain": [
       "         \n",
       "             S None\n",
       "  case       2  132\n",
       "  control   30 2392"
      ]
     },
     "metadata": {},
     "output_type": "display_data"
    },
    {
     "data": {
      "text/plain": [
       "\n",
       "\tFisher's Exact Test for Count Data\n",
       "\n",
       "data:  table(data$group, data$symp_S)\n",
       "p-value = 0.6833\n",
       "alternative hypothesis: true odds ratio is not equal to 1\n",
       "95 percent confidence interval:\n",
       " 0.1384368 4.8488599\n",
       "sample estimates:\n",
       "odds ratio \n",
       "  1.207982 \n"
      ]
     },
     "metadata": {},
     "output_type": "display_data"
    }
   ],
   "source": [
    "# Symp_S\n",
    "data$symp_S <- factor(data$symp_S, \n",
    "                      levels=c(\"S\", \"None\"), \n",
    "                      labels=c(\"S\", \"None\"))\n",
    "table(data$group, data$symp_S)\n",
    "fisher.test(table(data$group, data$symp_S))"
   ]
  },
  {
   "cell_type": "code",
   "execution_count": 18,
   "metadata": {},
   "outputs": [
    {
     "data": {
      "text/plain": [
       "         \n",
       "             D None\n",
       "  case      15  119\n",
       "  control  184 2238"
      ]
     },
     "metadata": {},
     "output_type": "display_data"
    },
    {
     "data": {
      "text/plain": [
       "\n",
       "\tFisher's Exact Test for Count Data\n",
       "\n",
       "data:  table(data$group, data$symp_nipple_discharge)\n",
       "p-value = 0.1352\n",
       "alternative hypothesis: true odds ratio is not equal to 1\n",
       "95 percent confidence interval:\n",
       " 0.8145717 2.7001730\n",
       "sample estimates:\n",
       "odds ratio \n",
       "  1.532844 \n"
      ]
     },
     "metadata": {},
     "output_type": "display_data"
    }
   ],
   "source": [
    "# Symp_D (nipple_discharge)\n",
    "data$symp_nipple_discharge <- factor(data$symp_nipple_discharge, \n",
    "                      levels=c(\"D\", \"None\"), \n",
    "                      labels=c(\"D\", \"None\"))\n",
    "table(data$group, data$symp_nipple_discharge)\n",
    "fisher.test(table(data$group, data$symp_nipple_discharge))"
   ]
  },
  {
   "cell_type": "code",
   "execution_count": 19,
   "metadata": {},
   "outputs": [
    {
     "data": {
      "text/plain": [
       "         \n",
       "             M None\n",
       "  case      14  120\n",
       "  control   33 2389"
      ]
     },
     "metadata": {},
     "output_type": "display_data"
    },
    {
     "data": {
      "text/plain": [
       "\n",
       "\tFisher's Exact Test for Count Data\n",
       "\n",
       "data:  table(data$group, data$symp_M)\n",
       "p-value = 4.677e-08\n",
       "alternative hypothesis: true odds ratio is not equal to 1\n",
       "95 percent confidence interval:\n",
       "  4.054397 16.706573\n",
       "sample estimates:\n",
       "odds ratio \n",
       "   8.42975 \n"
      ]
     },
     "metadata": {},
     "output_type": "display_data"
    }
   ],
   "source": [
    "# Symp_M\n",
    "data$symp_M <- factor(data$symp_M, \n",
    "                      levels=c(\"M\", \"None\"), \n",
    "                      labels=c(\"M\", \"None\"))\n",
    "table(data$group, data$symp_M)\n",
    "fisher.test(table(data$group, data$symp_M))"
   ]
  },
  {
   "cell_type": "code",
   "execution_count": 20,
   "metadata": {},
   "outputs": [
    {
     "data": {
      "text/plain": [
       "    \n",
       "       M None\n",
       "  N1   8  104\n",
       "  N2   3   10\n",
       "  N3   3    6"
      ]
     },
     "metadata": {},
     "output_type": "display_data"
    },
    {
     "data": {
      "text/plain": [
       "\n",
       "\tFisher's Exact Test for Count Data\n",
       "\n",
       "data:  table(data$group2, data$symp_M)\n",
       "p-value = 0.01584\n",
       "alternative hypothesis: two.sided\n"
      ]
     },
     "metadata": {},
     "output_type": "display_data"
    }
   ],
   "source": [
    "# Symp_M, group2\n",
    "table(data$group2, data$symp_M)\n",
    "fisher.test(table(data$group2, data$symp_M))"
   ]
  },
  {
   "cell_type": "code",
   "execution_count": 21,
   "metadata": {},
   "outputs": [
    {
     "data": {
      "text/plain": [
       "         \n",
       "             1    2    3\n",
       "  case     106    7    5\n",
       "  control 1831  153   60"
      ]
     },
     "metadata": {},
     "output_type": "display_data"
    },
    {
     "data": {
      "text/plain": [
       "\n",
       "\tFisher's Exact Test for Count Data\n",
       "\n",
       "data:  table(data$group, data$focality)\n",
       "p-value = 0.5593\n",
       "alternative hypothesis: two.sided\n"
      ]
     },
     "metadata": {},
     "output_type": "display_data"
    }
   ],
   "source": [
    "# Focality\n",
    "data$focality <- factor(data$focality, \n",
    "                      levels=c(1:3), \n",
    "                      labels=c(\"1\", \"2\", \"3\"))\n",
    "table(data$group, data$focality)\n",
    "fisher.test(table(data$group, data$focality))"
   ]
  },
  {
   "cell_type": "code",
   "execution_count": 22,
   "metadata": {},
   "outputs": [
    {
     "data": {
      "text/plain": [
       "         \n",
       "           G1  G2  G3  GX\n",
       "  case     17  62  19  36\n",
       "  control 183 876 529 834"
      ]
     },
     "metadata": {},
     "output_type": "display_data"
    },
    {
     "data": {
      "text/plain": [
       "\n",
       "\tFisher's Exact Test for Count Data\n",
       "\n",
       "data:  table(data$group, data$histology_grade)\n",
       "p-value = 0.004021\n",
       "alternative hypothesis: two.sided\n"
      ]
     },
     "metadata": {},
     "output_type": "display_data"
    }
   ],
   "source": [
    "# Histology_grade\n",
    "data$histology_grade <- factor(data$histology_grade, \n",
    "                      levels=c(\"G1\", \"G2\", \"G3\", \"GX\"), \n",
    "                      labels=c(\"G1\", \"G2\", \"G3\", \"GX\"))\n",
    "table(data$group, data$histology_grade)\n",
    "fisher.test(table(data$group, data$histology_grade))"
   ]
  },
  {
   "cell_type": "code",
   "execution_count": 23,
   "metadata": {},
   "outputs": [
    {
     "data": {
      "text/plain": [
       "    \n",
       "     G1 G2 G3 GX\n",
       "  N1 16 55 16 25\n",
       "  N2  0  2  2  9\n",
       "  N3  1  5  1  2"
      ]
     },
     "metadata": {},
     "output_type": "display_data"
    },
    {
     "data": {
      "text/plain": [
       "\n",
       "\tFisher's Exact Test for Count Data\n",
       "\n",
       "data:  table(data$group2, data$histology_grade)\n",
       "p-value = 0.02624\n",
       "alternative hypothesis: two.sided\n"
      ]
     },
     "metadata": {},
     "output_type": "display_data"
    }
   ],
   "source": [
    "# Histology_grade, group2\n",
    "table(data$group2, data$histology_grade)\n",
    "fisher.test(table(data$group2, data$histology_grade))"
   ]
  },
  {
   "cell_type": "code",
   "execution_count": 24,
   "metadata": {},
   "outputs": [
    {
     "data": {
      "text/plain": [
       "         \n",
       "           G1  G2  G3  GX\n",
       "  case      7  58  36  33\n",
       "  control 150 833 910 529"
      ]
     },
     "metadata": {},
     "output_type": "display_data"
    },
    {
     "data": {
      "text/plain": [
       "\n",
       "\tFisher's Exact Test for Count Data\n",
       "\n",
       "data:  table(data$group, data$nuclear_grade)\n",
       "p-value = 0.05488\n",
       "alternative hypothesis: two.sided\n"
      ]
     },
     "metadata": {},
     "output_type": "display_data"
    }
   ],
   "source": [
    "# Nuclear_grade\n",
    "data$nuclear_grade <- factor(data$nuclear_grade, \n",
    "                      levels=c(\"G1\", \"G2\", \"G3\", \"GX\"), \n",
    "                      labels=c(\"G1\", \"G2\", \"G3\", \"GX\"))\n",
    "table(data$group, data$nuclear_grade)\n",
    "fisher.test(table(data$group, data$nuclear_grade))"
   ]
  },
  {
   "cell_type": "code",
   "execution_count": 25,
   "metadata": {},
   "outputs": [
    {
     "data": {
      "text/plain": [
       "         \n",
       "          Negative Positive\n",
       "  case          45       89\n",
       "  control     1077     1345"
      ]
     },
     "metadata": {},
     "output_type": "display_data"
    },
    {
     "data": {
      "text/plain": [
       "\n",
       "\tFisher's Exact Test for Count Data\n",
       "\n",
       "data:  table(data$group, data$er_t)\n",
       "p-value = 0.01551\n",
       "alternative hypothesis: true odds ratio is not equal to 1\n",
       "95 percent confidence interval:\n",
       " 0.4271637 0.9227489\n",
       "sample estimates:\n",
       "odds ratio \n",
       " 0.6315469 \n"
      ]
     },
     "metadata": {},
     "output_type": "display_data"
    }
   ],
   "source": [
    "# ER\n",
    "data$er_t <- factor(data$er_t, \n",
    "                      levels=c(0, 1), \n",
    "                      labels=c(\"Negative\", \"Positive\"))\n",
    "table(data$group, data$er_t)\n",
    "fisher.test(table(data$group, data$er_t))"
   ]
  },
  {
   "cell_type": "code",
   "execution_count": 26,
   "metadata": {},
   "outputs": [
    {
     "data": {
      "text/plain": [
       "    \n",
       "     Negative Positive\n",
       "  N1       38       74\n",
       "  N2        4        9\n",
       "  N3        3        6"
      ]
     },
     "metadata": {},
     "output_type": "display_data"
    },
    {
     "data": {
      "text/plain": [
       "\n",
       "\tFisher's Exact Test for Count Data\n",
       "\n",
       "data:  table(data$group2, data$er_t)\n",
       "p-value = 1\n",
       "alternative hypothesis: two.sided\n"
      ]
     },
     "metadata": {},
     "output_type": "display_data"
    }
   ],
   "source": [
    "# ER, group2\n",
    "table(data$group2, data$er_t)\n",
    "fisher.test(table(data$group2, data$er_t))"
   ]
  },
  {
   "cell_type": "code",
   "execution_count": 27,
   "metadata": {},
   "outputs": [
    {
     "data": {
      "text/plain": [
       "         \n",
       "          Negative Positive\n",
       "  case          59       75\n",
       "  control     1310     1112"
      ]
     },
     "metadata": {},
     "output_type": "display_data"
    },
    {
     "data": {
      "text/plain": [
       "\n",
       "\tFisher's Exact Test for Count Data\n",
       "\n",
       "data:  table(data$group, data$pr_t)\n",
       "p-value = 0.02595\n",
       "alternative hypothesis: true odds ratio is not equal to 1\n",
       "95 percent confidence interval:\n",
       " 0.4620884 0.9615960\n",
       "sample estimates:\n",
       "odds ratio \n",
       " 0.6678797 \n"
      ]
     },
     "metadata": {},
     "output_type": "display_data"
    }
   ],
   "source": [
    "# PR\n",
    "data$pr_t <- factor(data$pr_t, \n",
    "                      levels=c(0, 1), \n",
    "                      labels=c(\"Negative\", \"Positive\"))\n",
    "table(data$group, data$pr_t)\n",
    "fisher.test(table(data$group, data$pr_t))"
   ]
  },
  {
   "cell_type": "code",
   "execution_count": 28,
   "metadata": {},
   "outputs": [
    {
     "data": {
      "text/plain": [
       "    \n",
       "     Negative Positive\n",
       "  N1       51       61\n",
       "  N2        4        9\n",
       "  N3        4        5"
      ]
     },
     "metadata": {},
     "output_type": "display_data"
    },
    {
     "data": {
      "text/plain": [
       "\n",
       "\tFisher's Exact Test for Count Data\n",
       "\n",
       "data:  table(data$group2, data$pr_t)\n",
       "p-value = 0.6028\n",
       "alternative hypothesis: two.sided\n"
      ]
     },
     "metadata": {},
     "output_type": "display_data"
    }
   ],
   "source": [
    "# PR, group2\n",
    "table(data$group2, data$pr_t)\n",
    "fisher.test(table(data$group2, data$pr_t))"
   ]
  },
  {
   "cell_type": "code",
   "execution_count": 29,
   "metadata": {},
   "outputs": [
    {
     "data": {
      "text/plain": [
       "         \n",
       "          Negative Positive\n",
       "  case          96       38\n",
       "  control     1344     1078"
      ]
     },
     "metadata": {},
     "output_type": "display_data"
    },
    {
     "data": {
      "text/plain": [
       "\n",
       "\tFisher's Exact Test for Count Data\n",
       "\n",
       "data:  table(data$group, data$her2_t)\n",
       "p-value = 0.0002243\n",
       "alternative hypothesis: true odds ratio is not equal to 1\n",
       "95 percent confidence interval:\n",
       " 1.364917 3.059280\n",
       "sample estimates:\n",
       "odds ratio \n",
       "   2.02575 \n"
      ]
     },
     "metadata": {},
     "output_type": "display_data"
    }
   ],
   "source": [
    "# HER2\n",
    "data$her2_t <- factor(data$her2_t, \n",
    "                      levels=c(0, 1), \n",
    "                      labels=c(\"Negative\", \"Positive\"))\n",
    "table(data$group, data$her2_t)\n",
    "fisher.test(table(data$group, data$her2_t))"
   ]
  },
  {
   "cell_type": "code",
   "execution_count": 30,
   "metadata": {},
   "outputs": [
    {
     "data": {
      "text/plain": [
       "    \n",
       "     Negative Positive\n",
       "  N1       83       29\n",
       "  N2        8        5\n",
       "  N3        5        4"
      ]
     },
     "metadata": {},
     "output_type": "display_data"
    },
    {
     "data": {
      "text/plain": [
       "\n",
       "\tFisher's Exact Test for Count Data\n",
       "\n",
       "data:  table(data$group2, data$her2_t)\n",
       "p-value = 0.2855\n",
       "alternative hypothesis: two.sided\n"
      ]
     },
     "metadata": {},
     "output_type": "display_data"
    }
   ],
   "source": [
    "# HER2, group2\n",
    "table(data$group2, data$her2_t)\n",
    "fisher.test(table(data$group2, data$her2_t))"
   ]
  },
  {
   "cell_type": "code",
   "execution_count": 31,
   "metadata": {},
   "outputs": [
    {
     "data": {
      "text/plain": [
       "         \n",
       "          <= 25 > 25\n",
       "  case       62   23\n",
       "  control  1243  509"
      ]
     },
     "metadata": {},
     "output_type": "display_data"
    },
    {
     "data": {
      "text/plain": [
       "\n",
       "\tFisher's Exact Test for Count Data\n",
       "\n",
       "data:  table(data$group, data$KI67_category)\n",
       "p-value = 0.8066\n",
       "alternative hypothesis: true odds ratio is not equal to 1\n",
       "95 percent confidence interval:\n",
       " 0.6656605 1.8882105\n",
       "sample estimates:\n",
       "odds ratio \n",
       "   1.10379 \n"
      ]
     },
     "metadata": {},
     "output_type": "display_data"
    }
   ],
   "source": [
    "# KI67\n",
    "data$KI67_category <- factor(data$KI67_category, \n",
    "                      levels=c(\"<= 25\", \"> 25\"), \n",
    "                      labels=c(\"<= 25\", \"> 25\"))\n",
    "table(data$group, data$KI67_category)\n",
    "fisher.test(table(data$group, data$KI67_category))"
   ]
  },
  {
   "cell_type": "code",
   "execution_count": 32,
   "metadata": {},
   "outputs": [
    {
     "data": {
      "text/plain": [
       "         \n",
       "          Negative Positive\n",
       "  case          13       71\n",
       "  control      168     1470"
      ]
     },
     "metadata": {},
     "output_type": "display_data"
    },
    {
     "data": {
      "text/plain": [
       "\n",
       "\tFisher's Exact Test for Count Data\n",
       "\n",
       "data:  table(data$group, data$EIC)\n",
       "p-value = 0.1422\n",
       "alternative hypothesis: true odds ratio is not equal to 1\n",
       "95 percent confidence interval:\n",
       " 0.7958459 2.9956604\n",
       "sample estimates:\n",
       "odds ratio \n",
       "  1.601588 \n"
      ]
     },
     "metadata": {},
     "output_type": "display_data"
    }
   ],
   "source": [
    "# EIC\n",
    "data$EIC <- factor(data$EIC, \n",
    "                      levels=c(0, 1), \n",
    "                      labels=c(\"Negative\", \"Positive\"))\n",
    "table(data$group, data$EIC)\n",
    "fisher.test(table(data$group, data$EIC))"
   ]
  }
 ],
 "metadata": {
  "kernelspec": {
   "display_name": "R",
   "language": "R",
   "name": "ir"
  },
  "language_info": {
   "codemirror_mode": "r",
   "file_extension": ".r",
   "mimetype": "text/x-r-source",
   "name": "R",
   "pygments_lexer": "r",
   "version": "4.0.0"
  }
 },
 "nbformat": 4,
 "nbformat_minor": 4
}
