{
 "cells": [
  {
   "cell_type": "code",
   "execution_count": 1,
   "metadata": {},
   "outputs": [
    {
     "name": "stderr",
     "output_type": "stream",
     "text": [
      "\n",
      "Attaching package: ‘dplyr’\n",
      "\n",
      "\n",
      "The following objects are masked from ‘package:stats’:\n",
      "\n",
      "    filter, lag\n",
      "\n",
      "\n",
      "The following objects are masked from ‘package:base’:\n",
      "\n",
      "    intersect, setdiff, setequal, union\n",
      "\n",
      "\n"
     ]
    }
   ],
   "source": [
    "library(dplyr)"
   ]
  },
  {
   "cell_type": "code",
   "execution_count": 2,
   "metadata": {},
   "outputs": [
    {
     "data": {
      "text/html": [
       "<style>\n",
       ".list-inline {list-style: none; margin:0; padding: 0}\n",
       ".list-inline>li {display: inline-block}\n",
       ".list-inline>li:not(:last-child)::after {content: \"\\00b7\"; padding: 0 .5ex}\n",
       "</style>\n",
       "<ol class=list-inline><li>2556</li><li>57</li></ol>\n"
      ],
      "text/latex": [
       "\\begin{enumerate*}\n",
       "\\item 2556\n",
       "\\item 57\n",
       "\\end{enumerate*}\n"
      ],
      "text/markdown": [
       "1. 2556\n",
       "2. 57\n",
       "\n",
       "\n"
      ],
      "text/plain": [
       "[1] 2556   57"
      ]
     },
     "metadata": {},
     "output_type": "display_data"
    },
    {
     "data": {
      "text/html": [
       "<style>\n",
       ".list-inline {list-style: none; margin:0; padding: 0}\n",
       ".list-inline>li {display: inline-block}\n",
       ".list-inline>li:not(:last-child)::after {content: \"\\00b7\"; padding: 0 .5ex}\n",
       "</style>\n",
       "<ol class=list-inline><li>'chart_id'</li><li>'tumour_size'</li><li>'selected'</li><li>'total_node'</li><li>'positive_node'</li><li>'n_axilla'</li><li>'n_internal_mammary'</li><li>'n_supraclavicular'</li><li>'tnm_n_total'</li><li>'tnm_m_total'</li><li>'p_stage'</li><li>'breast_op'</li><li>'axillary_op'</li><li>'sex'</li><li>'age_at_op'</li><li>'bmi'</li><li>'age_at_period_begin'</li><li>'menopause'</li><li>'contraceptives'</li><li>'HRT'</li><li>'BRCA_family_history'</li><li>'number_of_BRCA_family'</li><li>'other_disease'</li><li>'symptoms'</li><li>'comments_A'</li><li>'P_or_NP'</li><li>'symp_T'</li><li>'symp_R'</li><li>'symp_S'</li><li>'symp_nipple_discharge'</li><li>'symp_M'</li><li>'MMG'</li><li>'MMG_2'</li><li>'USG'</li><li>'USG_2'</li><li>'MRI'</li><li>'MRI_2'</li><li>'CEA'</li><li>'CEA_LAB'</li><li>'CA15.3'</li><li>'CA15.3_LAB'</li><li>'ALP_LAB'</li><li>'Breast_Laterality'</li><li>'focality'</li><li>'tumour_site'</li><li>'histology_grade'</li><li>'nuclear_grade'</li><li>'ht_total'</li><li>'er_t'</li><li>'pr_t'</li><li>'her2_t'</li><li>'p53_t'</li><li>'KI67_category'</li><li>'KI67_T'</li><li>'lymphatic_invasion'</li><li>'vascular_invasion'</li><li>'EIC'</li></ol>\n"
      ],
      "text/latex": [
       "\\begin{enumerate*}\n",
       "\\item 'chart\\_id'\n",
       "\\item 'tumour\\_size'\n",
       "\\item 'selected'\n",
       "\\item 'total\\_node'\n",
       "\\item 'positive\\_node'\n",
       "\\item 'n\\_axilla'\n",
       "\\item 'n\\_internal\\_mammary'\n",
       "\\item 'n\\_supraclavicular'\n",
       "\\item 'tnm\\_n\\_total'\n",
       "\\item 'tnm\\_m\\_total'\n",
       "\\item 'p\\_stage'\n",
       "\\item 'breast\\_op'\n",
       "\\item 'axillary\\_op'\n",
       "\\item 'sex'\n",
       "\\item 'age\\_at\\_op'\n",
       "\\item 'bmi'\n",
       "\\item 'age\\_at\\_period\\_begin'\n",
       "\\item 'menopause'\n",
       "\\item 'contraceptives'\n",
       "\\item 'HRT'\n",
       "\\item 'BRCA\\_family\\_history'\n",
       "\\item 'number\\_of\\_BRCA\\_family'\n",
       "\\item 'other\\_disease'\n",
       "\\item 'symptoms'\n",
       "\\item 'comments\\_A'\n",
       "\\item 'P\\_or\\_NP'\n",
       "\\item 'symp\\_T'\n",
       "\\item 'symp\\_R'\n",
       "\\item 'symp\\_S'\n",
       "\\item 'symp\\_nipple\\_discharge'\n",
       "\\item 'symp\\_M'\n",
       "\\item 'MMG'\n",
       "\\item 'MMG\\_2'\n",
       "\\item 'USG'\n",
       "\\item 'USG\\_2'\n",
       "\\item 'MRI'\n",
       "\\item 'MRI\\_2'\n",
       "\\item 'CEA'\n",
       "\\item 'CEA\\_LAB'\n",
       "\\item 'CA15.3'\n",
       "\\item 'CA15.3\\_LAB'\n",
       "\\item 'ALP\\_LAB'\n",
       "\\item 'Breast\\_Laterality'\n",
       "\\item 'focality'\n",
       "\\item 'tumour\\_site'\n",
       "\\item 'histology\\_grade'\n",
       "\\item 'nuclear\\_grade'\n",
       "\\item 'ht\\_total'\n",
       "\\item 'er\\_t'\n",
       "\\item 'pr\\_t'\n",
       "\\item 'her2\\_t'\n",
       "\\item 'p53\\_t'\n",
       "\\item 'KI67\\_category'\n",
       "\\item 'KI67\\_T'\n",
       "\\item 'lymphatic\\_invasion'\n",
       "\\item 'vascular\\_invasion'\n",
       "\\item 'EIC'\n",
       "\\end{enumerate*}\n"
      ],
      "text/markdown": [
       "1. 'chart_id'\n",
       "2. 'tumour_size'\n",
       "3. 'selected'\n",
       "4. 'total_node'\n",
       "5. 'positive_node'\n",
       "6. 'n_axilla'\n",
       "7. 'n_internal_mammary'\n",
       "8. 'n_supraclavicular'\n",
       "9. 'tnm_n_total'\n",
       "10. 'tnm_m_total'\n",
       "11. 'p_stage'\n",
       "12. 'breast_op'\n",
       "13. 'axillary_op'\n",
       "14. 'sex'\n",
       "15. 'age_at_op'\n",
       "16. 'bmi'\n",
       "17. 'age_at_period_begin'\n",
       "18. 'menopause'\n",
       "19. 'contraceptives'\n",
       "20. 'HRT'\n",
       "21. 'BRCA_family_history'\n",
       "22. 'number_of_BRCA_family'\n",
       "23. 'other_disease'\n",
       "24. 'symptoms'\n",
       "25. 'comments_A'\n",
       "26. 'P_or_NP'\n",
       "27. 'symp_T'\n",
       "28. 'symp_R'\n",
       "29. 'symp_S'\n",
       "30. 'symp_nipple_discharge'\n",
       "31. 'symp_M'\n",
       "32. 'MMG'\n",
       "33. 'MMG_2'\n",
       "34. 'USG'\n",
       "35. 'USG_2'\n",
       "36. 'MRI'\n",
       "37. 'MRI_2'\n",
       "38. 'CEA'\n",
       "39. 'CEA_LAB'\n",
       "40. 'CA15.3'\n",
       "41. 'CA15.3_LAB'\n",
       "42. 'ALP_LAB'\n",
       "43. 'Breast_Laterality'\n",
       "44. 'focality'\n",
       "45. 'tumour_site'\n",
       "46. 'histology_grade'\n",
       "47. 'nuclear_grade'\n",
       "48. 'ht_total'\n",
       "49. 'er_t'\n",
       "50. 'pr_t'\n",
       "51. 'her2_t'\n",
       "52. 'p53_t'\n",
       "53. 'KI67_category'\n",
       "54. 'KI67_T'\n",
       "55. 'lymphatic_invasion'\n",
       "56. 'vascular_invasion'\n",
       "57. 'EIC'\n",
       "\n",
       "\n"
      ],
      "text/plain": [
       " [1] \"chart_id\"              \"tumour_size\"           \"selected\"             \n",
       " [4] \"total_node\"            \"positive_node\"         \"n_axilla\"             \n",
       " [7] \"n_internal_mammary\"    \"n_supraclavicular\"     \"tnm_n_total\"          \n",
       "[10] \"tnm_m_total\"           \"p_stage\"               \"breast_op\"            \n",
       "[13] \"axillary_op\"           \"sex\"                   \"age_at_op\"            \n",
       "[16] \"bmi\"                   \"age_at_period_begin\"   \"menopause\"            \n",
       "[19] \"contraceptives\"        \"HRT\"                   \"BRCA_family_history\"  \n",
       "[22] \"number_of_BRCA_family\" \"other_disease\"         \"symptoms\"             \n",
       "[25] \"comments_A\"            \"P_or_NP\"               \"symp_T\"               \n",
       "[28] \"symp_R\"                \"symp_S\"                \"symp_nipple_discharge\"\n",
       "[31] \"symp_M\"                \"MMG\"                   \"MMG_2\"                \n",
       "[34] \"USG\"                   \"USG_2\"                 \"MRI\"                  \n",
       "[37] \"MRI_2\"                 \"CEA\"                   \"CEA_LAB\"              \n",
       "[40] \"CA15.3\"                \"CA15.3_LAB\"            \"ALP_LAB\"              \n",
       "[43] \"Breast_Laterality\"     \"focality\"              \"tumour_site\"          \n",
       "[46] \"histology_grade\"       \"nuclear_grade\"         \"ht_total\"             \n",
       "[49] \"er_t\"                  \"pr_t\"                  \"her2_t\"               \n",
       "[52] \"p53_t\"                 \"KI67_category\"         \"KI67_T\"               \n",
       "[55] \"lymphatic_invasion\"    \"vascular_invasion\"     \"EIC\"                  "
      ]
     },
     "metadata": {},
     "output_type": "display_data"
    }
   ],
   "source": [
    "data <- read.table(\"data/clinical_information.txt\", header=T, row.names=1, \n",
    "    sep=\"\\t\", na.strings=c(999))\n",
    "dim(data)\n",
    "colnames(data)"
   ]
  },
  {
   "cell_type": "code",
   "execution_count": 3,
   "metadata": {},
   "outputs": [],
   "source": [
    "data <- data %>%\n",
    "    mutate(age_at_op = case_when(\n",
    "        age_at_op >= 20 & age_at_op < 40 ~ \"[20, 40)\",\n",
    "        age_at_op >= 40 & age_at_op < 60 ~ \"[40, 60)\",\n",
    "        age_at_op >= 60 ~ \"[60, 85]\"),\n",
    "        bmi = case_when(\n",
    "        bmi < 20 ~ \"< 20\",\n",
    "        bmi >= 20 & bmi < 30 ~ \"20 >= bmi > 30\",\n",
    "        bmi >= 30 ~ \">= 30\"),\n",
    "        age_at_period_begin = case_when(\n",
    "        age_at_period_begin < 14 ~ \"< 14\",\n",
    "        age_at_period_begin >= 14 & age_at_period_begin <17 ~ \"14 >= age > 17\",\n",
    "        age_at_period_begin >= 17 ~ \">= 17\")\n",
    "    )"
   ]
  },
  {
   "cell_type": "code",
   "execution_count": 4,
   "metadata": {},
   "outputs": [
    {
     "data": {
      "text/plain": [
       "\n",
       "    N0 N0(i+)     N1     N2     N3 \n",
       "  2393     29    112     13      9 "
      ]
     },
     "metadata": {},
     "output_type": "display_data"
    }
   ],
   "source": [
    "table(data$tnm_n_total)"
   ]
  },
  {
   "cell_type": "code",
   "execution_count": 5,
   "metadata": {},
   "outputs": [
    {
     "data": {
      "text/plain": [
       "\n",
       "   case control \n",
       "    134    2422 "
      ]
     },
     "metadata": {},
     "output_type": "display_data"
    }
   ],
   "source": [
    "data$group <- \"control\"\n",
    "data$group[which(data$tnm_n_total %in% c(\"N1\", \"N2\", \"N3\"))] <- \"case\"\n",
    "data$group <- factor(data$group, levels=c(\"case\", \"control\"),\n",
    "                  labels=c(\"case\", \"control\"))\n",
    "table(data$group)"
   ]
  },
  {
   "cell_type": "code",
   "execution_count": 6,
   "metadata": {},
   "outputs": [
    {
     "data": {
      "text/plain": [
       "\n",
       " N1  N2  N3 \n",
       "112  13   9 "
      ]
     },
     "metadata": {},
     "output_type": "display_data"
    }
   ],
   "source": [
    "data$group2 <- \"NA\"\n",
    "data$group2[which(data$tnm_n_total == \"N1\")] <- \"N1\"\n",
    "data$group2[which(data$tnm_n_total == \"N2\")] <- \"N2\"\n",
    "data$group2[which(data$tnm_n_total == \"N3\")] <- \"N3\"\n",
    "data$group2 <- factor(data$group2, levels=c(\"N1\", \"N2\", \"N3\"),\n",
    "                  labels=c(\"N1\", \"N2\", \"N3\"))\n",
    "table(data$group2)"
   ]
  },
  {
   "cell_type": "code",
   "execution_count": 7,
   "metadata": {},
   "outputs": [
    {
     "data": {
      "text/plain": [
       "         \n",
       "           BCS   TM TM+IR   Bx  N/A No OP\n",
       "  case      52   80     0    1    1     0\n",
       "  control 1128 1279     1    8    5     1"
      ]
     },
     "metadata": {},
     "output_type": "display_data"
    },
    {
     "data": {
      "text/plain": [
       "\n",
       "\tFisher's Exact Test for Count Data\n",
       "\n",
       "data:  table(data$group, data$breast_op)\n",
       "p-value = 0.1527\n",
       "alternative hypothesis: two.sided\n"
      ]
     },
     "metadata": {},
     "output_type": "display_data"
    }
   ],
   "source": [
    "# breast_op\n",
    "data$breast_op <- factor(data$breast_op, levels=c(1:6), \n",
    "                      labels=c(\"BCS\", \"TM\", \"TM+IR\", \"Bx\", \"N/A\", \"No OP\"))\n",
    "table(data$group, data$breast_op)\n",
    "fisher.test(table(data$group, data$breast_op))"
   ]
  },
  {
   "cell_type": "code",
   "execution_count": 8,
   "metadata": {},
   "outputs": [
    {
     "data": {
      "text/plain": [
       "         \n",
       "          SLNB ALND  S+A No OP\n",
       "  case      39   79   16     0\n",
       "  control 2059  335    2    26"
      ]
     },
     "metadata": {},
     "output_type": "display_data"
    },
    {
     "data": {
      "text/plain": [
       "\n",
       "\tFisher's Exact Test for Count Data\n",
       "\n",
       "data:  table(data$group, data$axillary_op)\n",
       "p-value < 2.2e-16\n",
       "alternative hypothesis: two.sided\n"
      ]
     },
     "metadata": {},
     "output_type": "display_data"
    }
   ],
   "source": [
    "# axillary_op\n",
    "data$axillary_op <- factor(data$axillary_op, levels=c(1:4), \n",
    "                      labels=c(\"SLNB\", \"ALND\", \"S+A\", \"No OP\"))\n",
    "table(data$group, data$axillary_op)\n",
    "fisher.test(table(data$group, data$axillary_op))"
   ]
  },
  {
   "cell_type": "code",
   "execution_count": 9,
   "metadata": {},
   "outputs": [
    {
     "data": {
      "text/plain": [
       "    \n",
       "     SLNB ALND S+A No OP\n",
       "  N1   39   69   4     0\n",
       "  N2    0    7   6     0\n",
       "  N3    0    3   6     0"
      ]
     },
     "metadata": {},
     "output_type": "display_data"
    },
    {
     "data": {
      "text/plain": [
       "\n",
       "\tFisher's Exact Test for Count Data\n",
       "\n",
       "data:  table(data$group2, data$axillary_op)\n",
       "p-value = 9.188e-09\n",
       "alternative hypothesis: two.sided\n"
      ]
     },
     "metadata": {},
     "output_type": "display_data"
    }
   ],
   "source": [
    "table(data$group2, data$axillary_op)\n",
    "fisher.test(table(data$group2, data$axillary_op))"
   ]
  },
  {
   "cell_type": "code",
   "execution_count": 10,
   "metadata": {},
   "outputs": [
    {
     "data": {
      "text/plain": [
       "         \n",
       "          [20, 40) [40, 60) [60, 85]\n",
       "  case          21       88       25\n",
       "  control      342     1636      444"
      ]
     },
     "metadata": {},
     "output_type": "display_data"
    },
    {
     "data": {
      "text/plain": [
       "\n",
       "\tFisher's Exact Test for Count Data\n",
       "\n",
       "data:  table(data$group, data$age_at_op)\n",
       "p-value = 0.8285\n",
       "alternative hypothesis: two.sided\n"
      ]
     },
     "metadata": {},
     "output_type": "display_data"
    }
   ],
   "source": [
    "# age_at_op\n",
    "data$age_at_op <- factor(data$age_at_op, levels=c(\"[20, 40)\", \"[40, 60)\", \"[60, 85]\"), \n",
    "                      labels=c(\"[20, 40)\", \"[40, 60)\", \"[60, 85]\"))\n",
    "table(data$group, data$age_at_op)\n",
    "fisher.test(table(data$group, data$age_at_op))"
   ]
  },
  {
   "cell_type": "code",
   "execution_count": 11,
   "metadata": {},
   "outputs": [
    {
     "data": {
      "text/plain": [
       "         \n",
       "          < 20 20 >= bmi > 30 >= 30\n",
       "  case      18             92     1\n",
       "  control  311           1724    70"
      ]
     },
     "metadata": {},
     "output_type": "display_data"
    },
    {
     "data": {
      "text/plain": [
       "\n",
       "\tFisher's Exact Test for Count Data\n",
       "\n",
       "data:  table(data$group, data$bmi)\n",
       "p-value = 0.4162\n",
       "alternative hypothesis: two.sided\n"
      ]
     },
     "metadata": {},
     "output_type": "display_data"
    }
   ],
   "source": [
    "# bmi\n",
    "data$bmi <- factor(data$bmi, levels=c(\"< 20\", \"20 >= bmi > 30\", \">= 30\"), \n",
    "                      labels=c(\"< 20\", \"20 >= bmi > 30\", \">= 30\"))\n",
    "table(data$group, data$bmi)\n",
    "fisher.test(table(data$group, data$bmi))"
   ]
  },
  {
   "cell_type": "code",
   "execution_count": 12,
   "metadata": {},
   "outputs": [
    {
     "data": {
      "text/plain": [
       "         \n",
       "          < 14 14 >= age > 17 >= 17\n",
       "  case      27             57    13\n",
       "  control  440           1012   221"
      ]
     },
     "metadata": {},
     "output_type": "display_data"
    },
    {
     "data": {
      "text/plain": [
       "\n",
       "\tFisher's Exact Test for Count Data\n",
       "\n",
       "data:  table(data$group, data$age_at_period_begin)\n",
       "p-value = 0.9311\n",
       "alternative hypothesis: two.sided\n"
      ]
     },
     "metadata": {},
     "output_type": "display_data"
    }
   ],
   "source": [
    "# age_at_period_begin\n",
    "data$age_at_period_begin <- factor(data$age_at_period_begin, \n",
    "                      levels=c(\"< 14\", \"14 >= age > 17\", \">= 17\"), \n",
    "                      labels=c(\"< 14\", \"14 >= age > 17\", \">= 17\"))\n",
    "table(data$group, data$age_at_period_begin)\n",
    "fisher.test(table(data$group, data$age_at_period_begin))"
   ]
  },
  {
   "cell_type": "code",
   "execution_count": 13,
   "metadata": {},
   "outputs": [
    {
     "data": {
      "text/plain": [
       "         \n",
       "          Yes  No\n",
       "  case      0  29\n",
       "  control  12 767"
      ]
     },
     "metadata": {},
     "output_type": "display_data"
    },
    {
     "data": {
      "text/plain": [
       "\n",
       "\tFisher's Exact Test for Count Data\n",
       "\n",
       "data:  table(data$group, data$menopause)\n",
       "p-value = 1\n",
       "alternative hypothesis: true odds ratio is not equal to 1\n",
       "95 percent confidence interval:\n",
       "  0.00000 10.04796\n",
       "sample estimates:\n",
       "odds ratio \n",
       "         0 \n"
      ]
     },
     "metadata": {},
     "output_type": "display_data"
    }
   ],
   "source": [
    "# menopause\n",
    "data$menopause <- factor(data$menopause, levels=c(0, 1),\n",
    "                      labels=c(\"Yes\", \"No\"))\n",
    "table(data$group, data$menopause)\n",
    "fisher.test(table(data$group, data$menopause))"
   ]
  },
  {
   "cell_type": "code",
   "execution_count": 14,
   "metadata": {},
   "outputs": [
    {
     "data": {
      "text/plain": [
       "         \n",
       "            No  Yes\n",
       "  case      83   11\n",
       "  control 1515  180"
      ]
     },
     "metadata": {},
     "output_type": "display_data"
    },
    {
     "data": {
      "text/plain": [
       "\n",
       "\tFisher's Exact Test for Count Data\n",
       "\n",
       "data:  table(data$group, data$contraceptives)\n",
       "p-value = 0.731\n",
       "alternative hypothesis: true odds ratio is not equal to 1\n",
       "95 percent confidence interval:\n",
       " 0.4647094 1.9009409\n",
       "sample estimates:\n",
       "odds ratio \n",
       " 0.8965742 \n"
      ]
     },
     "metadata": {},
     "output_type": "display_data"
    }
   ],
   "source": [
    "# contraceptives\n",
    "data$contraceptives <- factor(data$contraceptives, levels=c(0, 1),\n",
    "                           labels=c(\"No\", \"Yes\"))\n",
    "table(data$group, data$contraceptives)\n",
    "fisher.test(table(data$group, data$contraceptives))"
   ]
  },
  {
   "cell_type": "code",
   "execution_count": 15,
   "metadata": {},
   "outputs": [
    {
     "data": {
      "text/plain": [
       "         \n",
       "            No  Yes\n",
       "  case      86    4\n",
       "  control 1544  144"
      ]
     },
     "metadata": {},
     "output_type": "display_data"
    },
    {
     "data": {
      "text/plain": [
       "\n",
       "\tFisher's Exact Test for Count Data\n",
       "\n",
       "data:  table(data$group, data$HRT)\n",
       "p-value = 0.2373\n",
       "alternative hypothesis: true odds ratio is not equal to 1\n",
       "95 percent confidence interval:\n",
       " 0.7385419 7.6326907\n",
       "sample estimates:\n",
       "odds ratio \n",
       "  2.004574 \n"
      ]
     },
     "metadata": {},
     "output_type": "display_data"
    }
   ],
   "source": [
    "# HRT\n",
    "data$HRT <- factor(data$HRT, levels=c(0, 1),\n",
    "                           labels=c(\"No\", \"Yes\"))\n",
    "table(data$group, data$HRT)\n",
    "fisher.test(table(data$group, data$HRT))"
   ]
  },
  {
   "cell_type": "code",
   "execution_count": 16,
   "metadata": {},
   "outputs": [
    {
     "data": {
      "text/plain": [
       "         \n",
       "            No  Yes\n",
       "  case     100   10\n",
       "  control 1956  219"
      ]
     },
     "metadata": {},
     "output_type": "display_data"
    },
    {
     "data": {
      "text/plain": [
       "\n",
       "\tFisher's Exact Test for Count Data\n",
       "\n",
       "data:  table(data$group, data$BRCA_family_history)\n",
       "p-value = 0.871\n",
       "alternative hypothesis: true odds ratio is not equal to 1\n",
       "95 percent confidence interval:\n",
       " 0.5729131 2.4425113\n",
       "sample estimates:\n",
       "odds ratio \n",
       "  1.119606 \n"
      ]
     },
     "metadata": {},
     "output_type": "display_data"
    }
   ],
   "source": [
    "# BRCA_family_history\n",
    "data$BRCA_family_history <- factor(data$BRCA_family_history, levels=c(0, 1),\n",
    "                           labels=c(\"No\", \"Yes\"))\n",
    "table(data$group, data$BRCA_family_history)\n",
    "fisher.test(table(data$group, data$BRCA_family_history))"
   ]
  },
  {
   "cell_type": "code",
   "execution_count": null,
   "metadata": {},
   "outputs": [],
   "source": []
  }
 ],
 "metadata": {
  "kernelspec": {
   "display_name": "R",
   "language": "R",
   "name": "ir"
  },
  "language_info": {
   "codemirror_mode": "r",
   "file_extension": ".r",
   "mimetype": "text/x-r-source",
   "name": "R",
   "pygments_lexer": "r",
   "version": "4.0.0"
  }
 },
 "nbformat": 4,
 "nbformat_minor": 4
}
